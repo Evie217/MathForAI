{
 "cells": [
  {
   "cell_type": "code",
   "execution_count": 5,
   "id": "34095bd8-f0d3-41f0-a6ba-0cbacd701d13",
   "metadata": {},
   "outputs": [],
   "source": [
    "# 첫 번째 직선: 2x + 3y = 5\n",
    "# 두 번째 직선: -x + y = 5"
   ]
  },
  {
   "cell_type": "markdown",
   "id": "6a14ada5-4d89-4d6f-ba4b-af4f85dd25b3",
   "metadata": {},
   "source": [
    "$ \\begin{bmatrix}\r\n",
    "2 & 3 \\\\\r\n",
    "-1 & 1\r\n",
    "\\end{bmatrix} $"
   ]
  },
  {
   "cell_type": "markdown",
   "id": "428f604e-0b30-4f1c-b9c6-e48b64b0f276",
   "metadata": {},
   "source": [
    "$ -2 \\begin{bmatrix}\n",
    " 2  \\\\\n",
    "-1 \n",
    "\\end{bmatrix} + 3 \\begin{bmatrix}\n",
    " 3  \\\\\n",
    "1 \n",
    "\\end{bmatrix} = \\begin{bmatrix}\n",
    " 5  \\\\\n",
    "5\n",
    "\\end{bmatrix}$"
   ]
  },
  {
   "cell_type": "markdown",
   "id": "7e4440de-75b3-4931-a444-d6a1aa413eba",
   "metadata": {},
   "source": [
    "<img src=\"../images/1.png\">"
   ]
  },
  {
   "cell_type": "markdown",
   "id": "91a6db6e-3a5d-4f4b-8262-179b818e5f0b",
   "metadata": {},
   "source": [
    " [\\\r\n",
    "x \\begin{bmatrix} \r\n",
    "  3 \\\\ \r\n",
    "  -2 \\\\ \r\n",
    "  6 \r\n",
    "\\end{bmatrix} \r\n",
    "+ \r\n",
    "y \\begin{bmatrix} \r\n",
    "  2 \\\\ \r\n",
    "  4 \\\\ \r\n",
    "  7 \r\n",
    "\\end{bmatrix} \r\n",
    "+ \r\n",
    "z \\begin{bmatrix} \r\n",
    "  6 \\\\ \r\n",
    "  -2 \\\\ \r\n",
    "  3 \r\n",
    "\\end{bmatrix} = \r\n",
    "\\begin{bmatrix} \r\n",
    "  9 \\\\ \r\n",
    "  11 \\\\ \r",
    "]  2 \r\n",
    "\\end{bmatrix}\r\n",
    "\\]\r\n",
    "  9 \\\\ \r\n",
    "  11 \\\\ \r\n",
    "  2 \r\n",
    "\\end{bmatrix}\r\n",
    "\\] $0 \r\n",
    "\\end{bmatrix}\r\n",
    "\\]"
   ]
  },
  {
   "cell_type": "code",
   "execution_count": 40,
   "id": "de24a97d-cce1-41c8-bc7e-7ecec3ca0b07",
   "metadata": {},
   "outputs": [
    {
     "data": {
      "text/plain": [
       "array([-3.54320988,  2.24074074,  2.52469136])"
      ]
     },
     "execution_count": 40,
     "metadata": {},
     "output_type": "execute_result"
    }
   ],
   "source": [
    "import numpy as np\n",
    "\n",
    "# 세 개의 3차원 벡터 정의\n",
    "A_three_dim = np.array([3, -2, 6])\n",
    "B_three_dim = np.array([2, 4, 7])\n",
    "C_three_dim = np.array([6, -2, 3])\n",
    "# C_three_dim = np.array([4, -8, 5])\n",
    "# 이 벡터는 A,B의 선형결합으로 표현할 수 있어 해가 없음\n",
    "\n",
    "# 목표 벡터\n",
    "target_vector = np.array([9, 11, 2])\n",
    "result = np.linalg.solve(np.array([A_three_dim, B_three_dim, C_three_dim]).T, target_vector)\n",
    "result"
   ]
  },
  {
   "cell_type": "code",
   "execution_count": 41,
   "id": "9bc58858-b0b5-4115-bb63-5b038ef1c43b",
   "metadata": {},
   "outputs": [
    {
     "data": {
      "text/plain": [
       "array([ 9., 11.,  2.])"
      ]
     },
     "execution_count": 41,
     "metadata": {},
     "output_type": "execute_result"
    }
   ],
   "source": [
    "A_three_dim*result[0] + B_three_dim*result[1] + C_three_dim*result[2]"
   ]
  }
 ],
 "metadata": {
  "kernelspec": {
   "display_name": "Python 3 (ipykernel)",
   "language": "python",
   "name": "python3"
  },
  "language_info": {
   "codemirror_mode": {
    "name": "ipython",
    "version": 3
   },
   "file_extension": ".py",
   "mimetype": "text/x-python",
   "name": "python",
   "nbconvert_exporter": "python",
   "pygments_lexer": "ipython3",
   "version": "3.12.4"
  }
 },
 "nbformat": 4,
 "nbformat_minor": 5
}
