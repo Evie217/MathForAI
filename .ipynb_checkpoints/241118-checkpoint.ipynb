{
 "cells": [
  {
   "cell_type": "markdown",
   "id": "f70617f6-6ce0-4c84-a025-4ed2fa4b9d72",
   "metadata": {},
   "source": [
    "### 두 직선의 계수를 정의합니다\n",
    "#### 첫 번째 직선: 2x + 3y = 5\n",
    "#### 두 번째 직선: -x + y = 5"
   ]
  },
  {
   "cell_type": "code",
   "execution_count": 2,
   "id": "e786bd79-ef67-40ca-bd2a-0a7bfcf3d3b3",
   "metadata": {},
   "outputs": [],
   "source": [
    "import numpy as np"
   ]
  },
  {
   "cell_type": "code",
   "execution_count": 1,
   "id": "4a9674e0-5976-438b-8901-99e01c12556d",
   "metadata": {},
   "outputs": [],
   "source": [
    "A = np.array([[2, 3], [-1, 1]])\n",
    "B = np.array([5, 5])"
   ]
  },
  {
   "cell_type": "code",
   "execution_count": 2,
   "id": "dfd7bc85-4b83-42dd-b202-c611880dcfae",
   "metadata": {},
   "outputs": [
    {
     "data": {
      "text/plain": [
       "array([-2.,  3.])"
      ]
     },
     "execution_count": 2,
     "metadata": {},
     "output_type": "execute_result"
    }
   ],
   "source": [
    "np.linalg.solve(A, B)"
   ]
  },
  {
   "cell_type": "code",
   "execution_count": 3,
   "id": "0cfb797a-8498-421b-8a6e-b59f98032c9d",
   "metadata": {},
   "outputs": [
    {
     "name": "stdout",
     "output_type": "stream",
     "text": [
      "Requirement already satisfied: sympy in c:\\anaconda\\lib\\site-packages (1.12)\n",
      "Requirement already satisfied: mpmath>=0.19 in c:\\anaconda\\lib\\site-packages (from sympy) (1.3.0)\n"
     ]
    }
   ],
   "source": [
    "!pip install sympy"
   ]
  },
  {
   "cell_type": "code",
   "execution_count": 4,
   "id": "72c9c5be-3bd1-4280-832d-1be6843f9382",
   "metadata": {},
   "outputs": [],
   "source": [
    "from sympy import Matrix"
   ]
  },
  {
   "cell_type": "code",
   "execution_count": 5,
   "id": "a8e06772-3dde-443d-a795-d4cae60a5053",
   "metadata": {},
   "outputs": [],
   "source": [
    "A_Matrix = np.array([[2, 3], [-1, 1]])\n",
    "sympy_matrix = Matrix(A)"
   ]
  },
  {
   "cell_type": "code",
   "execution_count": 6,
   "id": "42086454-d071-4459-bb2c-e7fb45af14b6",
   "metadata": {},
   "outputs": [
    {
     "name": "stdout",
     "output_type": "stream",
     "text": [
      "행렬의 rref\n",
      "Matrix([[1, 0], [0, 1]])\n",
      "Pivot columns (0, 1)\n"
     ]
    }
   ],
   "source": [
    "rref_matrix, pivot_columns = sympy_matrix.rref()\n",
    "print(\"행렬의 rref\")\n",
    "print(rref_matrix)\n",
    "print(\"Pivot columns\", pivot_columns)"
   ]
  },
  {
   "cell_type": "markdown",
   "id": "dead9e3e-d9ad-49d1-8c72-04d2d2a9debc",
   "metadata": {},
   "source": [
    "<a href=\"https://adamdhalla.medium.com/linear-algebra-4-reduced-row-echelon-form-for-solving-ax-0-74f64b4f37ce\">RREF 참고자료</a>"
   ]
  },
  {
   "cell_type": "markdown",
   "id": "9b8b0b98-8932-4203-9c10-daa34e309a0f",
   "metadata": {},
   "source": [
    "### 두 직선의 계수를 정의합니다\n",
    "#### 첫 번째 직선: 2x + 3y = 5\n",
    "#### 두 번째 직선: -2x - 3y = 15"
   ]
  },
  {
   "cell_type": "code",
   "execution_count": 3,
   "id": "4c79a717-1c62-4c54-8862-a916701ca9d3",
   "metadata": {},
   "outputs": [],
   "source": [
    "A = np.array([[2, 3], [-2, -3]])\n",
    "B = np.array([5, 15])"
   ]
  },
  {
   "cell_type": "code",
   "execution_count": 5,
   "id": "61d327e5-c4a8-49e3-b814-e12f9fa70264",
   "metadata": {},
   "outputs": [],
   "source": [
    "sympy_matrix = Matrix(A)"
   ]
  },
  {
   "cell_type": "code",
   "execution_count": 6,
   "id": "68bf9471-36bf-42fa-8416-a73fa7427a3a",
   "metadata": {},
   "outputs": [
    {
     "data": {
      "text/plain": [
       "(Matrix([\n",
       " [1, 3/2],\n",
       " [0,   0]]),\n",
       " (0,))"
      ]
     },
     "execution_count": 6,
     "metadata": {},
     "output_type": "execute_result"
    }
   ],
   "source": [
    "rref_m, pivot_c = sympy_matrix.rref()\n",
    "rref_m, pivot_c"
   ]
  },
  {
   "cell_type": "markdown",
   "id": "7f6ad7a6-770f-4c9d-91e0-23f3d21252e5",
   "metadata": {},
   "source": [
    "### 3개의 평면의 계수를 정의합니다\n",
    "#### 첫 번째 평면: 2x + 3y + 7z = 5\n",
    "#### 두 번째 평면: 3x + 4y + 12z = 7\n",
    "#### 세 번째 평면: -6x + 6y + 5z = 13"
   ]
  },
  {
   "cell_type": "code",
   "execution_count": 15,
   "id": "5fe05486-16a5-48bb-ba74-66a479ad3afa",
   "metadata": {},
   "outputs": [],
   "source": [
    "A_x = np.array([2, 3, 7])\n",
    "B_y = np.array([3, 4, 12])\n",
    "C_z = np.array([-6, 6, 5])\n",
    "b = np.array([5, 7, 13]) # 결과 벡터"
   ]
  },
  {
   "cell_type": "code",
   "execution_count": 26,
   "id": "dd6bea29-ce3e-4126-bbcd-2b2d314e19b9",
   "metadata": {},
   "outputs": [],
   "source": [
    "# 열벡터 형태로 행렬 생성, 벡터들을 열벡터로 전치\n",
    "matrix = np.array([A_x, B_y, C_z]).T"
   ]
  },
  {
   "cell_type": "code",
   "execution_count": 24,
   "id": "eb192ba0-fc36-48c8-91f8-a87b023e1ee3",
   "metadata": {},
   "outputs": [
    {
     "data": {
      "text/plain": [
       "array([ 4.54929577, -1.53521127, -0.08450704])"
      ]
     },
     "execution_count": 24,
     "metadata": {},
     "output_type": "execute_result"
    }
   ],
   "source": [
    "result = np.linalg.solve(matrix, b)\n",
    "result"
   ]
  },
  {
   "cell_type": "code",
   "execution_count": 27,
   "id": "6464a121-dbc3-4633-9127-76a6c924f45d",
   "metadata": {},
   "outputs": [
    {
     "data": {
      "text/plain": [
       "array([ 5.,  7., 13.])"
      ]
     },
     "execution_count": 27,
     "metadata": {},
     "output_type": "execute_result"
    }
   ],
   "source": [
    "combined_result = result[0]*A_x + result[1]*B_y + result[2]*C_z\n",
    "combined_result\n",
    "# 세 백터가 모두 독립이므로 해가 존재\n",
    "# 해는 세 벡터의 선형결합으로 만들어짐, 세 백터의 span에 포함됨"
   ]
  },
  {
   "cell_type": "markdown",
   "id": "8a0149c1-2430-4a6d-991a-a0d1d7b81c71",
   "metadata": {},
   "source": [
    "<h3>C벡터는 A와 B벡터의 선형 결합으로 이루어진 벡터이므로 평면안에 포함된다.<br />\n",
    "그래서 b를 구하지 못한다.</h3>"
   ]
  },
  {
   "cell_type": "code",
   "execution_count": 34,
   "id": "419681aa-e259-4198-94ef-de417bb42fd6",
   "metadata": {},
   "outputs": [
    {
     "data": {
      "text/plain": [
       "(array([ 4.50359963e+15, -4.50359963e+15,  4.50359963e+15]),\n",
       " array([ 5.,  9., 12.]))"
      ]
     },
     "execution_count": 34,
     "metadata": {},
     "output_type": "execute_result"
    }
   ],
   "source": [
    "A_x = np.array([2, 3, 7])\n",
    "B_y = np.array([3, 4, 12])\n",
    "C_z = np.array([1, 1, 5])\n",
    "b = np.array([5, 7, 13])\n",
    "\n",
    "matrix = np.array([A_x, B_y, C_z]).T\n",
    "result = np.linalg.solve(matrix, b)\n",
    "combined_result = result[0]*A_x + result[1]*B_y + result[2]*C_z\n",
    "result, combined_result"
   ]
  },
  {
   "cell_type": "code",
   "execution_count": 35,
   "id": "94d540f8-db55-40bc-8db6-078963e5b968",
   "metadata": {},
   "outputs": [],
   "source": [
    "# 세 벡터 정의\n",
    "A_x = np.array([2, 3, 7])\n",
    "B_y = np.array([3, 4, 12])\n",
    "C_z = np.array([7, 10, 26])"
   ]
  },
  {
   "cell_type": "code",
   "execution_count": 36,
   "id": "54056c1b-8e84-43ad-ba45-9ff04a078d4b",
   "metadata": {},
   "outputs": [
    {
     "data": {
      "text/latex": [
       "$\\displaystyle \\left[\\begin{matrix}2 & 3 & 7\\\\3 & 4 & 12\\\\7 & 10 & 26\\end{matrix}\\right]$"
      ],
      "text/plain": [
       "Matrix([\n",
       "[2,  3,  7],\n",
       "[3,  4, 12],\n",
       "[7, 10, 26]])"
      ]
     },
     "execution_count": 36,
     "metadata": {},
     "output_type": "execute_result"
    }
   ],
   "source": [
    "sympy_matrix_three_dim = Matrix([A_x, B_y, C_z])\n",
    "sympy_matrix_three_dim"
   ]
  },
  {
   "cell_type": "code",
   "execution_count": 38,
   "id": "05daa7f4-22e1-4a1f-94a3-70b9d56d4ee5",
   "metadata": {},
   "outputs": [
    {
     "data": {
      "text/plain": [
       "(Matrix([\n",
       " [1, 0,  8],\n",
       " [0, 1, -3],\n",
       " [0, 0,  0]]),\n",
       " (0, 1))"
      ]
     },
     "execution_count": 38,
     "metadata": {},
     "output_type": "execute_result"
    }
   ],
   "source": [
    "rrem_f, pivot_c = sympy_matrix_three_dim.rref()\n",
    "rrem_f, pivot_c"
   ]
  }
 ],
 "metadata": {
  "kernelspec": {
   "display_name": "Python 3 (ipykernel)",
   "language": "python",
   "name": "python3"
  },
  "language_info": {
   "codemirror_mode": {
    "name": "ipython",
    "version": 3
   },
   "file_extension": ".py",
   "mimetype": "text/x-python",
   "name": "python",
   "nbconvert_exporter": "python",
   "pygments_lexer": "ipython3",
   "version": "3.12.4"
  }
 },
 "nbformat": 4,
 "nbformat_minor": 5
}
