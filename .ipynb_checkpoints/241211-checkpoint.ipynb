{
 "cells": [
  {
   "cell_type": "code",
   "execution_count": 1,
   "id": "d43fee2b-9173-4358-b3e1-174be4b9c613",
   "metadata": {},
   "outputs": [],
   "source": [
    "import numpy as np"
   ]
  },
  {
   "cell_type": "markdown",
   "id": "ab57b6e9-0a0b-4af2-a15f-d1962dc04d64",
   "metadata": {},
   "source": [
    "<img src=\"images/2.png\" />"
   ]
  },
  {
   "cell_type": "code",
   "execution_count": 2,
   "id": "b20b0034-4502-4a05-a862-b71b90001439",
   "metadata": {},
   "outputs": [],
   "source": [
    "class Norm:\n",
    "    def __init__(self, x, y=np.array([])):\n",
    "        assert type(x) != None\n",
    "        self.x = x\n",
    "        self.y = y\n",
    "\n",
    "    def one_norm(self, x):\n",
    "        x_new = []\n",
    "        for i in x:\n",
    "            x_new.append(i**2)\n",
    "        return sum(np.array(x_new))**(1/2)  # 원점에서 벡터 사이의 거리(크기)\n",
    "\n",
    "    def two_norm(self, x, y):\n",
    "        x_new = []\n",
    "        for i, j in zip(x, y):\n",
    "            x_new.append((i - j)**2)\n",
    "\n",
    "        x_new = sum(np.array(x_new))\n",
    "        return x_new**(1/2)  # 두 벡터 사이의 거리(크기)\n",
    "\n",
    "    def call(self):\n",
    "        if self.y.size > 0:\n",
    "            return self.two_norm(self.x, self.y)\n",
    "        else:\n",
    "            return self.one_norm(self.x)"
   ]
  },
  {
   "cell_type": "code",
   "execution_count": 3,
   "id": "3e2a3020-aa21-41f8-aec0-17b8a45f8042",
   "metadata": {},
   "outputs": [
    {
     "data": {
      "text/plain": [
       "3.7416573867739413"
      ]
     },
     "execution_count": 3,
     "metadata": {},
     "output_type": "execute_result"
    }
   ],
   "source": [
    "x = np.array([1, 2, 3])\n",
    "norm = Norm(x)\n",
    "norm.one_norm(x)"
   ]
  },
  {
   "cell_type": "code",
   "execution_count": 4,
   "id": "2d9153ca-a730-4478-99d1-2b9af5c19157",
   "metadata": {},
   "outputs": [
    {
     "data": {
      "text/plain": [
       "12.609520212918492"
      ]
     },
     "execution_count": 4,
     "metadata": {},
     "output_type": "execute_result"
    }
   ],
   "source": [
    "x = np.array([1, 2, 3, 4])\n",
    "y = np.array([11, -1, 2, -3])\n",
    "norm.two_norm(x, y)"
   ]
  },
  {
   "cell_type": "code",
   "execution_count": 6,
   "id": "b1c13ab4-61ca-4da9-b0a2-4d823c90ff78",
   "metadata": {},
   "outputs": [
    {
     "name": "stdout",
     "output_type": "stream",
     "text": [
      "사랑11\n",
      "믿음23\n",
      "증오13\n",
      "감사14\n"
     ]
    }
   ],
   "source": [
    "x = ['사랑', '믿음', '증오', '감사']\n",
    "xx = [11, 23, 13, 14]\n",
    "for i, j in zip(x, xx):\n",
    "    print(i + str(j))"
   ]
  },
  {
   "cell_type": "markdown",
   "id": "6b17a023-7333-430b-9d96-6f45e06b4bbb",
   "metadata": {},
   "source": [
    "### 예제\r",
    "R^{4}\n",
    "의 벡터x = (2, -1, 3, 2), y = (3, 2, 1, -4) 에 대하여  여 각 벡터의 원점에 대한 norm과 x와 y에 대한 norm을 구하여라"
   ]
  },
  {
   "cell_type": "code",
   "execution_count": 7,
   "id": "58f7095e-f274-4534-9ecf-47a3806f5622",
   "metadata": {},
   "outputs": [
    {
     "name": "stdout",
     "output_type": "stream",
     "text": [
      "x의 원점에 대한 norm: 4.242640687119285\n",
      "y의 원점에 대한 norm 5.477225575051661\n",
      "x와 y의 norm: 7.0710678118654755\n"
     ]
    }
   ],
   "source": [
    "x = np.array([2, -1, 3, 2])\n",
    "y = np.array([3, 2, 1, -4])\n",
    "\n",
    "answer_1 = Norm(x).call()\n",
    "answer_2 = Norm(y).call()\n",
    "answer_3 = Norm(x, y).call()\n",
    "\n",
    "print(f\"x의 원점에 대한 norm: {answer_1}\\ny의 원점에 대한 norm {answer_2}\\nx와 y의 norm: {answer_3}\")"
   ]
  },
  {
   "cell_type": "markdown",
   "id": "7eb6424e-f99b-49aa-aea6-fe6df53b8d57",
   "metadata": {},
   "source": [
    "<img src=\"images/3.png\" />"
   ]
  },
  {
   "cell_type": "code",
   "execution_count": 8,
   "id": "d9212fe9-4876-461d-977f-4b8c9276f0ae",
   "metadata": {},
   "outputs": [],
   "source": [
    "def inner_product(x, y):  # 각각의 성분의 곱한 결과를 더함\n",
    "    a = 0\n",
    "    for i, j in zip(x, y):\n",
    "        a += i * j\n",
    "    return a"
   ]
  },
  {
   "cell_type": "code",
   "execution_count": 11,
   "id": "cd9c927c-8725-4864-a6c0-9a76cd60dfff",
   "metadata": {},
   "outputs": [
    {
     "name": "stdout",
     "output_type": "stream",
     "text": [
      "x, y의 내적: 14\n",
      "x와 x의 내적: 84\n",
      "x와 x의 내적이 x의 norm의 제곱인가?: True\n"
     ]
    }
   ],
   "source": [
    "x = np.array([1, 3, 5, 7])\n",
    "y = np.array([1, -2, 1, 2])\n",
    "\n",
    "norm_x = Norm(x).call()\n",
    "res = inner_product(x, y)\n",
    "res_2 = inner_product(x, x)\n",
    "print(f\"x, y의 내적: {res}\\nx와 x의 내적: {res_2}\")\n",
    "print(f\"x와 x의 내적이 x의 norm의 제곱인가?: {round(norm_x**2) == res_2}\") \n",
    "#calculting floating number has some error, round() method can partically fix that.\n",
    "# 자기 자신과의 내적은 크기의 제곱임"
   ]
  },
  {
   "cell_type": "markdown",
   "id": "3eead4cd-a31b-4f80-a79b-641432e6e653",
   "metadata": {},
   "source": [
    "<img src=\"images/4.png\" />"
   ]
  },
  {
   "cell_type": "markdown",
   "id": "5c84e2dd-0a6c-46f7-bdcb-144f8f984829",
   "metadata": {},
   "source": [
    "<img src=\"images/6.png\" />"
   ]
  },
  {
   "cell_type": "markdown",
   "id": "3a159539-e77d-4104-9e2d-a228d342b00d",
   "metadata": {},
   "source": [
    "### 직교(orthogonal), 수직(perpendicular), 평행(parallel)"
   ]
  },
  {
   "cell_type": "code",
   "execution_count": 13,
   "id": "8b11a541-f136-4f98-9c0d-4cf13a8aff8c",
   "metadata": {},
   "outputs": [
    {
     "name": "stdout",
     "output_type": "stream",
     "text": [
      "직교하는가?: True\n"
     ]
    }
   ],
   "source": [
    "x = np.array([1, 0, 1, 1])\n",
    "y = np.array([-1, 0, 0, 1])\n",
    "\n",
    "print(f\"직교하는가?: {inner_product(x, y)==0}\")"
   ]
  },
  {
   "cell_type": "markdown",
   "id": "686cc5fc-5f40-4b6c-ac10-823147acc325",
   "metadata": {},
   "source": [
    "<img src=\"images/5.png\" />"
   ]
  }
 ],
 "metadata": {
  "kernelspec": {
   "display_name": "Python 3 (ipykernel)",
   "language": "python",
   "name": "python3"
  },
  "language_info": {
   "codemirror_mode": {
    "name": "ipython",
    "version": 3
   },
   "file_extension": ".py",
   "mimetype": "text/x-python",
   "name": "python",
   "nbconvert_exporter": "python",
   "pygments_lexer": "ipython3",
   "version": "3.12.4"
  }
 },
 "nbformat": 4,
 "nbformat_minor": 5
}
